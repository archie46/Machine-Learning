{
  "nbformat": 4,
  "nbformat_minor": 0,
  "metadata": {
    "colab": {
      "provenance": [],
      "authorship_tag": "ABX9TyN/egaC4eiGYUxh7aC1ppu2",
      "include_colab_link": true
    },
    "kernelspec": {
      "name": "python3",
      "display_name": "Python 3"
    },
    "language_info": {
      "name": "python"
    }
  },
  "cells": [
    {
      "cell_type": "markdown",
      "metadata": {
        "id": "view-in-github",
        "colab_type": "text"
      },
      "source": [
        "<a href=\"https://colab.research.google.com/github/archie46/Machine-Learning/blob/main/KNN_2.ipynb\" target=\"_parent\"><img src=\"https://colab.research.google.com/assets/colab-badge.svg\" alt=\"Open In Colab\"/></a>"
      ]
    },
    {
      "cell_type": "code",
      "execution_count": null,
      "metadata": {
        "id": "aXtr3bdHqOBW"
      },
      "outputs": [],
      "source": [
        "import math\n",
        "def dist_calc(row1,row2):\n",
        "    d = 0.0\n",
        "    for i in range(len(row1)-1):\n",
        "        d += (row1[i] - row2[i])**2\n",
        "    return math.sqrt(d)"
      ]
    },
    {
      "cell_type": "code",
      "source": [
        "import numpy\n",
        "from scipy.stats import mode\n",
        "def prediction(x_train,y_train,input_data,k):\n",
        "    result = []\n",
        "    for i in input_data:\n",
        "        distances = []\n",
        "        for j in range(len(x_train)):\n",
        "            distance = dist_calc(numpy.array(x_train[j,:]) , i)\n",
        "            #Calculating the distance\n",
        "            distances.append(distance)\n",
        "        distances = numpy.array(distances)\n",
        "        d = numpy.argsort(distances)[:k]\n",
        "        labels = y_train[d]\n",
        "        labl = mode(labels)\n",
        "        labl = labl.mode[0]\n",
        "        result.append(labl)\n",
        "    return result"
      ],
      "metadata": {
        "id": "MXBbe2TfqaAl"
      },
      "execution_count": null,
      "outputs": []
    },
    {
      "cell_type": "code",
      "source": [
        "#Importing the required modules\n",
        "#Importing required modules\n",
        "from sklearn.metrics import accuracy_score\n",
        "from sklearn.datasets import load_iris\n",
        "from numpy.random import randint\n",
        "\n",
        "#Loading the Data\n",
        "iris= load_iris()\n",
        "\n",
        "# Store features matrix in X\n",
        "X= iris.data\n",
        "#Store target vector in\n",
        "y= iris.target\n",
        "\n",
        "\n",
        "#Creating the training Data\n",
        "train_idx = xxx = randint(0,150,100)\n",
        "X_train = X[train_idx]\n",
        "y_train = y[train_idx]\n",
        "\n",
        "#Creating the testing Data\n",
        "test_idx = xxx = randint(0,150,50) #taking 50 random samples\n",
        "X_test = X[test_idx]\n",
        "y_test = y[test_idx]\n"
      ],
      "metadata": {
        "id": "WumdLq7krv2b"
      },
      "execution_count": null,
      "outputs": []
    },
    {
      "cell_type": "code",
      "source": [
        "#Applying our function\n",
        "y_pred = prediction(X_train,y_train,X_test , 7)\n",
        "\n",
        "#Checking the accuracy\n",
        "accuracy_score(y_test, y_pred)"
      ],
      "metadata": {
        "id": "HMwSFHeArzmd",
        "outputId": "6c7477d7-4bf7-4157-f4a4-9d23cced4274",
        "colab": {
          "base_uri": "https://localhost:8080/"
        }
      },
      "execution_count": null,
      "outputs": [
        {
          "output_type": "execute_result",
          "data": {
            "text/plain": [
              "0.92"
            ]
          },
          "metadata": {},
          "execution_count": 5
        }
      ]
    }
  ]
}